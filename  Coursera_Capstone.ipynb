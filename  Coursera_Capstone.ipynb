{
    "metadata": {
        "kernelspec": {
            "language": "python3", 
            "display_name": "Python 3.5 with Spark", 
            "name": "python3"
        }, 
        "language_info": {
            "name": "python", 
            "version": "3.5.4", 
            "pygments_lexer": "ipython3", 
            "nbconvert_exporter": "python", 
            "mimetype": "text/x-python", 
            "codemirror_mode": {
                "version": 3, 
                "name": "ipython"
            }, 
            "file_extension": ".py"
        }
    }, 
    "nbformat": 4, 
    "cells": [
        {
            "metadata": {
                "collapsed": true
            }, 
            "cell_type": "markdown", 
            "source": "###  Coursera_Capstone Project"
        }, 
        {
            "metadata": {}, 
            "cell_type": "markdown", 
            "source": "**This notebook will maily be used for Capstone project in which we will be using Foursquare API. We will be playing with the location data provider** "
        }, 
        {
            "metadata": {}, 
            "cell_type": "markdown", 
            "source": "*lets import the fundamental packages of pyhton for this project, mainly numpy and pandas*"
        }, 
        {
            "execution_count": 1, 
            "metadata": {}, 
            "outputs": [
                {
                    "output_type": "stream", 
                    "name": "stdout", 
                    "text": "Waiting for a Spark session to start...\nSpark Initialization Done! ApplicationId = app-20181006101517-0000\n"
                }
            ], 
            "cell_type": "code", 
            "source": "import numpy as np\nimport pandas as pd"
        }, 
        {
            "execution_count": 2, 
            "metadata": {}, 
            "outputs": [
                {
                    "output_type": "stream", 
                    "name": "stdout", 
                    "text": "Hello Capstone Project Course!\n"
                }
            ], 
            "cell_type": "code", 
            "source": "print(\"Hello Capstone Project Course!\")"
        }
    ], 
    "nbformat_minor": 1
}